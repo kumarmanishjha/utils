{
 "cells": [
  {
   "cell_type": "markdown",
   "metadata": {},
   "source": [
    "Input: Directory containing list of files with certain naming convention which signifies different files for different genome data.\n"
   ]
  },
  {
   "cell_type": "markdown",
   "metadata": {},
   "source": [
    "Processing: Read each file and make required modification as per file type, which is usually differentiable by the file name ending.\n"
   ]
  },
  {
   "cell_type": "markdown",
   "metadata": {},
   "source": [
    "Output: Output each modified file to a modified directory"
   ]
  },
  {
   "cell_type": "code",
   "execution_count": 5,
   "metadata": {
    "collapsed": true
   },
   "outputs": [],
   "source": [
    "import pandas as pd\n",
    "import numpy as np\n",
    "import glob, re, os"
   ]
  },
  {
   "cell_type": "code",
   "execution_count": null,
   "metadata": {
    "collapsed": true
   },
   "outputs": [],
   "source": [
    "os.mkdir('output')"
   ]
  },
  {
   "cell_type": "code",
   "execution_count": 2,
   "metadata": {
    "collapsed": true
   },
   "outputs": [],
   "source": [
    "##Read all txt files from the directory\n",
    "file_list = glob.glob(\".\\*.txt\")"
   ]
  },
  {
   "cell_type": "code",
   "execution_count": 3,
   "metadata": {
    "collapsed": false
   },
   "outputs": [
    {
     "data": {
      "text/plain": [
       "['.\\\\motif-1601-E1.txt', '.\\\\motif-1601-P.txt']"
      ]
     },
     "execution_count": 3,
     "metadata": {},
     "output_type": "execute_result"
    }
   ],
   "source": [
    "file_list"
   ]
  },
  {
   "cell_type": "code",
   "execution_count": 6,
   "metadata": {
    "collapsed": false
   },
   "outputs": [],
   "source": [
    "##Creating different lists for filename with different operations\n",
    "r1 = re.compile('.*-P.txt')\n",
    "r2 = re.compile('.*-P1.txt')\n",
    "r3 = re.compile('.*-L1.txt')\n",
    "r4 = re.compile('.*-P2.txt')\n",
    "r5 = re.compile('.*-SS.txt')\n",
    "r6 = re.compile('.*-S1.txt')\n",
    "r7 = re.compile('.*-S2.txt')\n",
    "r8 = re.compile('.*-E1.txt')\n",
    "r9 = re.compile('.*-E2.txt')\n",
    "r10 = re.compile('.*-L2.txt')\n",
    "r11 = re.compile('.*-DYW.txt')"
   ]
  },
  {
   "cell_type": "code",
   "execution_count": 7,
   "metadata": {
    "collapsed": true
   },
   "outputs": [],
   "source": [
    "## P1.txt, P.txt, P2.txt, L1.txt\n",
    "\n",
    "l1 = list(filter(r1.match, file_list))\n",
    "l2 = list(filter(r2.match, file_list))\n",
    "l3 = list(filter(r3.match, file_list))\n",
    "l4 = list(filter(r4.match, file_list))\n",
    "\n",
    "list35 = l1+l2+l3+l4\n",
    "\n",
    "## SS.txt, S1.txt\n",
    "l5 = list(filter(r5.match, file_list))\n",
    "l6 = list(filter(r6.match, file_list))\n",
    "\n",
    "list31 = l5+l6\n",
    "\n",
    "## S2.txt\n",
    "list32 =list(filter(r7.match, file_list))\n",
    "\n",
    "##E1.txt, E2.txt\n",
    "l8 = list(filter(r8.match, file_list))\n",
    "l9 = list(filter(r9.match, file_list))\n",
    "\n",
    "list34 = l8 + l9\n",
    "\n",
    "#L2.txt\n",
    "list36 =list(filter(r10.match, file_list))\n",
    "\n",
    "#DYW.txt\n",
    "list136 =list(filter(r11.match, file_list))\n",
    "\n",
    "lists = ['list35', 'list31', 'list32', 'list34', 'list36', 'list136']"
   ]
  },
  {
   "cell_type": "code",
   "execution_count": 8,
   "metadata": {
    "collapsed": false
   },
   "outputs": [
    {
     "data": {
      "text/plain": [
       "['list35', 'list31', 'list32', 'list34', 'list36', 'list136']"
      ]
     },
     "execution_count": 8,
     "metadata": {},
     "output_type": "execute_result"
    }
   ],
   "source": [
    "lists"
   ]
  },
  {
   "cell_type": "code",
   "execution_count": 9,
   "metadata": {
    "collapsed": false
   },
   "outputs": [
    {
     "data": {
      "text/plain": [
       "['.\\\\motif-1601-P.txt']"
      ]
     },
     "execution_count": 9,
     "metadata": {},
     "output_type": "execute_result"
    }
   ],
   "source": [
    "list35"
   ]
  },
  {
   "cell_type": "code",
   "execution_count": 10,
   "metadata": {
    "collapsed": false
   },
   "outputs": [
    {
     "data": {
      "text/plain": [
       "['.\\\\motif-1601-E1.txt']"
      ]
     },
     "execution_count": 10,
     "metadata": {},
     "output_type": "execute_result"
    }
   ],
   "source": [
    "list34"
   ]
  },
  {
   "cell_type": "code",
   "execution_count": 17,
   "metadata": {
    "collapsed": true
   },
   "outputs": [],
   "source": [
    "#### Process the files\n",
    "\n",
    "for list_name in lists:\n",
    "\tif(list_name == 'list35'):\n",
    "\t\tfor files in list35:\n",
    "\t\t\tdf1 = pd.read_csv( files, header =None, sep='\\s+')\n",
    "\t\t\tdf1[9] =  1- df1[9]\n",
    "\t\t\tdf1[10] =  35- df1[10]\n",
    "\t\t\tdf1[12] = df1[7] + df1[9] + 1\n",
    "\t\t\tdf1[13] = df1[8] + df1[10]\n",
    "\t\t\tdf2 = df1[[0,12,13]].copy()\n",
    "\t\t\tdf2 = df2[df2[12] > 0]\n",
    "\t\t\tdf2.to_csv( '.\\output'+str(files), sep= '\\t', index = None, header = False)\n",
    "\t\t\t\n",
    "\tif(list_name == 'list31'):\n",
    "\t\tfor files in list31:\n",
    "\t\t\tdf1 = pd.read_csv( files, header =None, sep='\\s+')\n",
    "\t\t\tdf1[9] =  1 - df1[9]\n",
    "\t\t\tdf1[10] =  31 - df1[10]\n",
    "\t\t\tdf1[12] = df1[7] + df1[9] + 1\n",
    "\t\t\tdf1[13] = df1[8] + df1[10]\n",
    "\t\t\tdf2 = df1[[0,12,13]].copy()\n",
    "\t\t\tdf2 = df2[df2[12] > 0]\n",
    "\t\t\tdf2.to_csv( '.\\output'+str(files), sep= '\\t', index = None, header = False)\n",
    "\n",
    "\t\t\t\n",
    "\tif(list_name == 'list32'):\n",
    "\t\tfor files in list32:\n",
    "\t\t\tdf1 = pd.read_csv( files, header =None, sep='\\s+')\n",
    "\t\t\tdf1[9] =  1 - df1[9]\n",
    "\t\t\tdf1[10] =  32 - df1[10]\n",
    "\t\t\tdf1[12] = df1[7] + df1[9] + 1\n",
    "\t\t\tdf1[13] = df1[8] + df1[10]\n",
    "\t\t\tdf2 = df1[[0,12,13]].copy()\n",
    "\t\t\tdf2 = df2[df2[12] > 0]\n",
    "\t\t\tdf2.to_csv( '.\\output'+str(files), sep= '\\t', index = None, header = False)\n",
    "\t\t\t\n",
    "\tif(list_name == 'list34'):\n",
    "\t\tfor files in list34:\n",
    "\t\t\tdf1 = pd.read_csv( files, header =None, sep='\\s+')\n",
    "\t\t\tdf1[9] =  1 - df1[9]\n",
    "\t\t\tdf1[10] =  34 - df1[10]\n",
    "\t\t\tdf1[12] = df1[7] + df1[9] + 1\n",
    "\t\t\tdf1[13] = df1[8] + df1[10]\n",
    "\t\t\tdf2 = df1[[0,12,13]].copy()\n",
    "\t\t\tdf2 = df2[df2[12] > 0]\n",
    "\t\t\tdf2.to_csv( '.\\output'+str(files), sep= '\\t', index = None, header = False)\n",
    "\t\t\t\n",
    "\tif(list_name == 'list36'):\n",
    "\t\tfor files in list36:\n",
    "\t\t\tdf1 = pd.read_csv( files, header =None, sep='\\s+')\n",
    "\t\t\tdf1[9] =  1 - df1[9]\n",
    "\t\t\tdf1[10] =  36- df1[10]\n",
    "\t\t\tdf1[12] = df1[7] + df1[9] + 1\n",
    "\t\t\tdf1[13] = df1[8] + df1[10]\n",
    "\t\t\tdf2 = df1[[0,12,13]].copy()\n",
    "\t\t\tdf2 = df2[df2[12] > 0]\n",
    "\t\t\tdf2.to_csv( '.\\output'+str(files), sep= '\\t', index = None, header = False)\n",
    "\t\t\t\n",
    "\tif(list_name == 'list136'):\n",
    "\t\tfor files in list136:\n",
    "\t\t\tdf1 = pd.read_csv( files, header =None, sep='\\s+')\n",
    "\t\t\tdf1[9] =  1 - df1[9]\n",
    "\t\t\tdf1[10] =  136 - df1[10]\n",
    "\t\t\tdf1[12] = df1[7] + df1[9] + 1\n",
    "\t\t\tdf1[13] = df1[8] + df1[10]\n",
    "\t\t\tdf2 = df1[[0,12,13]].copy()\n",
    "\t\t\tdf2 = df2[df2[12] > 0]\t\t\t\n",
    "\t\t\tdf2.to_csv( '.\\output'+str(files), sep= '\\t', index = None, header = False)"
   ]
  },
  {
   "cell_type": "code",
   "execution_count": null,
   "metadata": {
    "collapsed": true
   },
   "outputs": [],
   "source": []
  }
 ],
 "metadata": {
  "kernelspec": {
   "display_name": "Python 3",
   "language": "python",
   "name": "python3"
  },
  "language_info": {
   "codemirror_mode": {
    "name": "ipython",
    "version": 3
   },
   "file_extension": ".py",
   "mimetype": "text/x-python",
   "name": "python",
   "nbconvert_exporter": "python",
   "pygments_lexer": "ipython3",
   "version": "3.6.0"
  }
 },
 "nbformat": 4,
 "nbformat_minor": 2
}
